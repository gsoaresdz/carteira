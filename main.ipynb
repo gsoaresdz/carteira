{
 "cells": [
  {
   "attachments": {},
   "cell_type": "markdown",
   "metadata": {},
   "source": [
    "## Performance de uma carteira de ativos"
   ]
  },
  {
   "attachments": {},
   "cell_type": "markdown",
   "metadata": {},
   "source": [
    "###### Importando as bibliotecas"
   ]
  },
  {
   "cell_type": "code",
   "execution_count": null,
   "metadata": {},
   "outputs": [],
   "source": [
    "import numpy as pd\n",
    "import pandas as pd\n",
    "import matplotlib.pyplot as plt\n",
    "import pandas_datareader.data as web\n",
    "import yfinance as yf"
   ]
  },
  {
   "attachments": {},
   "cell_type": "markdown",
   "metadata": {},
   "source": [
    "###### Importando os dados"
   ]
  },
  {
   "cell_type": "code",
   "execution_count": null,
   "metadata": {},
   "outputs": [],
   "source": [
    "carteira = pd.read_excel('carteira.xlsx')\n",
    "display(carteira)"
   ]
  },
  {
   "attachments": {},
   "cell_type": "markdown",
   "metadata": {},
   "source": [
    "###### Criando nosso Dataframe de Cotações dos ativos da carteira"
   ]
  },
  {
   "cell_type": "code",
   "execution_count": null,
   "metadata": {},
   "outputs": [],
   "source": [
    "cotacoes_carteira = pd.DataFrame()\n",
    "\n",
    "for ativo in carteira['Ativos']:\n",
    "  cotacoes_carteira[ativo] = yf.download('{}.SA'.format(ativo), start='2020-01-01', end='2020-11-10', progress=False)['Adj Close']\n",
    "  \n",
    "display(cotacoes_carteira)"
   ]
  },
  {
   "attachments": {},
   "cell_type": "markdown",
   "metadata": {},
   "source": [
    "###### Validando as informações geradas"
   ]
  },
  {
   "cell_type": "code",
   "execution_count": null,
   "metadata": {},
   "outputs": [],
   "source": [
    "cotacoes_carteira.info()"
   ]
  },
  {
   "attachments": {},
   "cell_type": "markdown",
   "metadata": {},
   "source": [
    "###### Ajustando os dados validados que estão como nulos"
   ]
  },
  {
   "cell_type": "code",
   "execution_count": null,
   "metadata": {},
   "outputs": [],
   "source": [
    "df_media = cotacoes_carteira.mean()\n",
    "# cotacoes_carteira = cotacoes_carteira.fillna(df_media)\n",
    "cotacoes_carteira = cotacoes_carteira.ffill()\n",
    "\n",
    "display(cotacoes_carteira)"
   ]
  },
  {
   "attachments": {},
   "cell_type": "markdown",
   "metadata": {},
   "source": [
    "###### Analisando a performance da carteira de forma individual para normalizar os dados"
   ]
  },
  {
   "cell_type": "code",
   "execution_count": null,
   "metadata": {},
   "outputs": [],
   "source": [
    "carteira_norm = cotacoes_carteira / cotacoes_carteira.iloc[0]\n",
    "carteira_norm.plot(figsize=(15,5))\n",
    "plt.legend(loc='upper left')"
   ]
  },
  {
   "attachments": {},
   "cell_type": "markdown",
   "metadata": {},
   "source": [
    "###### Buscando o Ibovespa para comparação"
   ]
  },
  {
   "cell_type": "code",
   "execution_count": null,
   "metadata": {},
   "outputs": [],
   "source": [
    "cotacoes_ibov = yf.download('^BVSP', start='2020-01-01', end='2020-11-10', progress=False)\n",
    "display(cotacoes_ibov)"
   ]
  },
  {
   "attachments": {},
   "cell_type": "markdown",
   "metadata": {},
   "source": [
    "###### Criando um Dataframe da Carteira com as quantidades de ações"
   ]
  },
  {
   "cell_type": "code",
   "execution_count": null,
   "metadata": {},
   "outputs": [],
   "source": [
    "valor_investido = pd.DataFrame()\n",
    "\n",
    "for ativo in carteira['Ativos']:\n",
    "  valor_investido[ativo] = cotacoes_carteira[ativo] * carteira.loc[carteira['Ativos'] == ativo, 'Qtde'].values[0]\n",
    "\n",
    "# Remover GNDI3 pois não tem cotação\n",
    "valor_investido = valor_investido.drop('GNDI3', axis=1)\n",
    "\n",
    "display(valor_investido)"
   ]
  },
  {
   "cell_type": "markdown",
   "metadata": {},
   "source": [
    "###### Carteira x IBOV"
   ]
  },
  {
   "cell_type": "code",
   "execution_count": null,
   "metadata": {},
   "outputs": [],
   "source": [
    "valor_investido['Total'] = valor_investido.sum(axis=1)\n",
    "\n",
    "valor_investido_norm = valor_investido / valor_investido.iloc[0]\n",
    "cotacoes_ibov_norm = cotacoes_ibov / cotacoes_ibov.iloc[0]\n",
    "\n",
    "valor_investido_norm['Total'].plot(figsize=(15,5), label='Cateira')\n",
    "cotacoes_ibov_norm['Adj Close'].plot(figsize=(15,5), label='IBOV')\n",
    "plt.legend()\n",
    "plt.show()"
   ]
  },
  {
   "cell_type": "code",
   "execution_count": null,
   "metadata": {},
   "outputs": [],
   "source": [
    "retorno_carteira = valor_investido['Total'][-1] / valor_investido['Total'][0]\n",
    "retorno_ibov = cotacoes_ibov['Adj Close'][-1] / cotacoes_ibov['Adj Close'][0]\n",
    "print('Retorno carteira: {:.2f}%'.format(retorno_carteira))\n",
    "print('Retorno IBOV: {:.2f}%'.format(retorno_ibov))"
   ]
  },
  {
   "attachments": {},
   "cell_type": "markdown",
   "metadata": {},
   "source": [
    "###### Correlação da Carteira com o IBOV"
   ]
  },
  {
   "cell_type": "code",
   "execution_count": null,
   "metadata": {},
   "outputs": [],
   "source": [
    "correlacao = valor_investido['Total'].corr(cotacoes_ibov['Adj Close'])\n",
    "print('Correlação: {:.2f}%'.format(correlacao))"
   ]
  }
 ],
 "metadata": {
  "kernelspec": {
   "display_name": "Python 3",
   "language": "python",
   "name": "python3"
  },
  "language_info": {
   "codemirror_mode": {
    "name": "ipython",
    "version": 3
   },
   "file_extension": ".py",
   "mimetype": "text/x-python",
   "name": "python",
   "nbconvert_exporter": "python",
   "pygments_lexer": "ipython3",
   "version": "3.9.7"
  }
 },
 "nbformat": 4,
 "nbformat_minor": 4
}
